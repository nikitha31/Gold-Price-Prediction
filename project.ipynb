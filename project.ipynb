{
  "cells": [
    {
      "cell_type": "code",
      "execution_count": 59,
      "metadata": {
        "id": "eAu0nOkOTTDN"
      },
      "outputs": [],
      "source": [
        "from keras.preprocessing.sequence import TimeseriesGenerator\n",
        "from keras.models import Sequential\n",
        "from keras.layers import Dense\n",
        "from keras.layers import LSTM\n",
        "from sklearn.preprocessing import MinMaxScaler\n",
        "\n",
        "import tensorflow.compat.v1 as tf\n",
        "tf.disable_v2_behavior()\n"
      ]
    },
    {
      "cell_type": "code",
      "execution_count": 60,
      "metadata": {
        "colab": {
          "base_uri": "https://localhost:8080/",
          "height": 544
        },
        "id": "wo3FdqzBNrSC",
        "outputId": "4be3332e-9e1a-4e7c-c417-3cea9ab78f8a"
      },
      "outputs": [
        {
          "output_type": "stream",
          "name": "stdout",
          "text": [
            "             Date    Value\n",
            "0      1970-01-01    35.20\n",
            "1      1970-04-01    35.10\n",
            "2      1970-07-01    35.40\n",
            "3      1970-10-01    36.20\n",
            "4      1971-01-01    37.40\n",
            "...           ...      ...\n",
            "10782  2020-03-09  1672.50\n",
            "10783  2020-03-10  1655.70\n",
            "10784  2020-03-11  1653.75\n",
            "10785  2020-03-12  1570.70\n",
            "10786  2020-03-13  1562.80\n",
            "\n",
            "[10787 rows x 2 columns]\n"
          ]
        },
        {
          "output_type": "execute_result",
          "data": {
            "text/plain": [
              "              Value\n",
              "count  10787.000000\n",
              "mean     653.596634\n",
              "std      434.030848\n",
              "min       35.100000\n",
              "25%      349.200000\n",
              "50%      409.350000\n",
              "75%     1061.625000\n",
              "max     1895.000000"
            ],
            "text/html": [
              "\n",
              "  <div id=\"df-9dc75510-4459-4cc8-89cd-6f180ea84714\">\n",
              "    <div class=\"colab-df-container\">\n",
              "      <div>\n",
              "<style scoped>\n",
              "    .dataframe tbody tr th:only-of-type {\n",
              "        vertical-align: middle;\n",
              "    }\n",
              "\n",
              "    .dataframe tbody tr th {\n",
              "        vertical-align: top;\n",
              "    }\n",
              "\n",
              "    .dataframe thead th {\n",
              "        text-align: right;\n",
              "    }\n",
              "</style>\n",
              "<table border=\"1\" class=\"dataframe\">\n",
              "  <thead>\n",
              "    <tr style=\"text-align: right;\">\n",
              "      <th></th>\n",
              "      <th>Value</th>\n",
              "    </tr>\n",
              "  </thead>\n",
              "  <tbody>\n",
              "    <tr>\n",
              "      <th>count</th>\n",
              "      <td>10787.000000</td>\n",
              "    </tr>\n",
              "    <tr>\n",
              "      <th>mean</th>\n",
              "      <td>653.596634</td>\n",
              "    </tr>\n",
              "    <tr>\n",
              "      <th>std</th>\n",
              "      <td>434.030848</td>\n",
              "    </tr>\n",
              "    <tr>\n",
              "      <th>min</th>\n",
              "      <td>35.100000</td>\n",
              "    </tr>\n",
              "    <tr>\n",
              "      <th>25%</th>\n",
              "      <td>349.200000</td>\n",
              "    </tr>\n",
              "    <tr>\n",
              "      <th>50%</th>\n",
              "      <td>409.350000</td>\n",
              "    </tr>\n",
              "    <tr>\n",
              "      <th>75%</th>\n",
              "      <td>1061.625000</td>\n",
              "    </tr>\n",
              "    <tr>\n",
              "      <th>max</th>\n",
              "      <td>1895.000000</td>\n",
              "    </tr>\n",
              "  </tbody>\n",
              "</table>\n",
              "</div>\n",
              "      <button class=\"colab-df-convert\" onclick=\"convertToInteractive('df-9dc75510-4459-4cc8-89cd-6f180ea84714')\"\n",
              "              title=\"Convert this dataframe to an interactive table.\"\n",
              "              style=\"display:none;\">\n",
              "        \n",
              "  <svg xmlns=\"http://www.w3.org/2000/svg\" height=\"24px\"viewBox=\"0 0 24 24\"\n",
              "       width=\"24px\">\n",
              "    <path d=\"M0 0h24v24H0V0z\" fill=\"none\"/>\n",
              "    <path d=\"M18.56 5.44l.94 2.06.94-2.06 2.06-.94-2.06-.94-.94-2.06-.94 2.06-2.06.94zm-11 1L8.5 8.5l.94-2.06 2.06-.94-2.06-.94L8.5 2.5l-.94 2.06-2.06.94zm10 10l.94 2.06.94-2.06 2.06-.94-2.06-.94-.94-2.06-.94 2.06-2.06.94z\"/><path d=\"M17.41 7.96l-1.37-1.37c-.4-.4-.92-.59-1.43-.59-.52 0-1.04.2-1.43.59L10.3 9.45l-7.72 7.72c-.78.78-.78 2.05 0 2.83L4 21.41c.39.39.9.59 1.41.59.51 0 1.02-.2 1.41-.59l7.78-7.78 2.81-2.81c.8-.78.8-2.07 0-2.86zM5.41 20L4 18.59l7.72-7.72 1.47 1.35L5.41 20z\"/>\n",
              "  </svg>\n",
              "      </button>\n",
              "      \n",
              "  <style>\n",
              "    .colab-df-container {\n",
              "      display:flex;\n",
              "      flex-wrap:wrap;\n",
              "      gap: 12px;\n",
              "    }\n",
              "\n",
              "    .colab-df-convert {\n",
              "      background-color: #E8F0FE;\n",
              "      border: none;\n",
              "      border-radius: 50%;\n",
              "      cursor: pointer;\n",
              "      display: none;\n",
              "      fill: #1967D2;\n",
              "      height: 32px;\n",
              "      padding: 0 0 0 0;\n",
              "      width: 32px;\n",
              "    }\n",
              "\n",
              "    .colab-df-convert:hover {\n",
              "      background-color: #E2EBFA;\n",
              "      box-shadow: 0px 1px 2px rgba(60, 64, 67, 0.3), 0px 1px 3px 1px rgba(60, 64, 67, 0.15);\n",
              "      fill: #174EA6;\n",
              "    }\n",
              "\n",
              "    [theme=dark] .colab-df-convert {\n",
              "      background-color: #3B4455;\n",
              "      fill: #D2E3FC;\n",
              "    }\n",
              "\n",
              "    [theme=dark] .colab-df-convert:hover {\n",
              "      background-color: #434B5C;\n",
              "      box-shadow: 0px 1px 3px 1px rgba(0, 0, 0, 0.15);\n",
              "      filter: drop-shadow(0px 1px 2px rgba(0, 0, 0, 0.3));\n",
              "      fill: #FFFFFF;\n",
              "    }\n",
              "  </style>\n",
              "\n",
              "      <script>\n",
              "        const buttonEl =\n",
              "          document.querySelector('#df-9dc75510-4459-4cc8-89cd-6f180ea84714 button.colab-df-convert');\n",
              "        buttonEl.style.display =\n",
              "          google.colab.kernel.accessAllowed ? 'block' : 'none';\n",
              "\n",
              "        async function convertToInteractive(key) {\n",
              "          const element = document.querySelector('#df-9dc75510-4459-4cc8-89cd-6f180ea84714');\n",
              "          const dataTable =\n",
              "            await google.colab.kernel.invokeFunction('convertToInteractive',\n",
              "                                                     [key], {});\n",
              "          if (!dataTable) return;\n",
              "\n",
              "          const docLinkHtml = 'Like what you see? Visit the ' +\n",
              "            '<a target=\"_blank\" href=https://colab.research.google.com/notebooks/data_table.ipynb>data table notebook</a>'\n",
              "            + ' to learn more about interactive tables.';\n",
              "          element.innerHTML = '';\n",
              "          dataTable['output_type'] = 'display_data';\n",
              "          await google.colab.output.renderOutput(dataTable, element);\n",
              "          const docLink = document.createElement('div');\n",
              "          docLink.innerHTML = docLinkHtml;\n",
              "          element.appendChild(docLink);\n",
              "        }\n",
              "      </script>\n",
              "    </div>\n",
              "  </div>\n",
              "  "
            ]
          },
          "metadata": {},
          "execution_count": 60
        }
      ],
      "source": [
        "import pandas as pd  \n",
        "import numpy as np\n",
        "\n",
        "\n",
        "#error stuff calculation\n",
        "import math\n",
        "import sklearn.metrics\n",
        "from sklearn import metrics\n",
        "import matplotlib.pyplot as plt \n",
        "\n",
        "\n",
        "#let us import dataset from our utd server\n",
        "data = pd.read_csv('https://personal.utdallas.edu/~jxc210050/gold_price_data_2.csv')\n",
        "# let us keep the data in a dataframe \n",
        "df = pd.DataFrame(data)\n",
        "df1 = pd.DataFrame(data)\n",
        "\n",
        "print(df)\n",
        "df.describe()"
      ]
    },
    {
      "cell_type": "code",
      "execution_count": 61,
      "metadata": {
        "colab": {
          "base_uri": "https://localhost:8080/"
        },
        "id": "ipi09wqJpZmr",
        "outputId": "94885db5-ddf7-46cf-d606-ef2ceb5997a4"
      },
      "outputs": [
        {
          "output_type": "stream",
          "name": "stdout",
          "text": [
            "Date     0\n",
            "Value    0\n",
            "dtype: int64\n"
          ]
        }
      ],
      "source": [
        "#step 2 : pre processing\n",
        "print(df.isna().sum())\n",
        "# if we have nulls delete them\n",
        "if(df.isna().sum().sum()>0):\n",
        "  df = df.dropna()\n",
        "# let us drop redundant data rows from our dataset.\n",
        "if(df.duplicated().sum()):\n",
        "  df.drop_duplicates()"
      ]
    },
    {
      "cell_type": "code",
      "execution_count": 62,
      "metadata": {
        "colab": {
          "base_uri": "https://localhost:8080/",
          "height": 544
        },
        "id": "wpwxWspfs35a",
        "outputId": "d6290a88-941a-4a1d-84bf-2652aed93cda"
      },
      "outputs": [
        {
          "output_type": "stream",
          "name": "stdout",
          "text": [
            "             Date    Value\n",
            "0      1970-01-01    35.20\n",
            "1      1970-04-01    35.10\n",
            "2      1970-07-01    35.40\n",
            "3      1970-10-01    36.20\n",
            "4      1971-01-01    37.40\n",
            "...           ...      ...\n",
            "10782  2020-03-09  1672.50\n",
            "10783  2020-03-10  1655.70\n",
            "10784  2020-03-11  1653.75\n",
            "10785  2020-03-12  1570.70\n",
            "10786  2020-03-13  1562.80\n",
            "\n",
            "[10787 rows x 2 columns]\n"
          ]
        },
        {
          "output_type": "execute_result",
          "data": {
            "text/plain": [
              "              Value\n",
              "count  10787.000000\n",
              "mean     653.596634\n",
              "std      434.030848\n",
              "min       35.100000\n",
              "25%      349.200000\n",
              "50%      409.350000\n",
              "75%     1061.625000\n",
              "max     1895.000000"
            ],
            "text/html": [
              "\n",
              "  <div id=\"df-80576776-aa5c-437d-b384-d8db6529e9d9\">\n",
              "    <div class=\"colab-df-container\">\n",
              "      <div>\n",
              "<style scoped>\n",
              "    .dataframe tbody tr th:only-of-type {\n",
              "        vertical-align: middle;\n",
              "    }\n",
              "\n",
              "    .dataframe tbody tr th {\n",
              "        vertical-align: top;\n",
              "    }\n",
              "\n",
              "    .dataframe thead th {\n",
              "        text-align: right;\n",
              "    }\n",
              "</style>\n",
              "<table border=\"1\" class=\"dataframe\">\n",
              "  <thead>\n",
              "    <tr style=\"text-align: right;\">\n",
              "      <th></th>\n",
              "      <th>Value</th>\n",
              "    </tr>\n",
              "  </thead>\n",
              "  <tbody>\n",
              "    <tr>\n",
              "      <th>count</th>\n",
              "      <td>10787.000000</td>\n",
              "    </tr>\n",
              "    <tr>\n",
              "      <th>mean</th>\n",
              "      <td>653.596634</td>\n",
              "    </tr>\n",
              "    <tr>\n",
              "      <th>std</th>\n",
              "      <td>434.030848</td>\n",
              "    </tr>\n",
              "    <tr>\n",
              "      <th>min</th>\n",
              "      <td>35.100000</td>\n",
              "    </tr>\n",
              "    <tr>\n",
              "      <th>25%</th>\n",
              "      <td>349.200000</td>\n",
              "    </tr>\n",
              "    <tr>\n",
              "      <th>50%</th>\n",
              "      <td>409.350000</td>\n",
              "    </tr>\n",
              "    <tr>\n",
              "      <th>75%</th>\n",
              "      <td>1061.625000</td>\n",
              "    </tr>\n",
              "    <tr>\n",
              "      <th>max</th>\n",
              "      <td>1895.000000</td>\n",
              "    </tr>\n",
              "  </tbody>\n",
              "</table>\n",
              "</div>\n",
              "      <button class=\"colab-df-convert\" onclick=\"convertToInteractive('df-80576776-aa5c-437d-b384-d8db6529e9d9')\"\n",
              "              title=\"Convert this dataframe to an interactive table.\"\n",
              "              style=\"display:none;\">\n",
              "        \n",
              "  <svg xmlns=\"http://www.w3.org/2000/svg\" height=\"24px\"viewBox=\"0 0 24 24\"\n",
              "       width=\"24px\">\n",
              "    <path d=\"M0 0h24v24H0V0z\" fill=\"none\"/>\n",
              "    <path d=\"M18.56 5.44l.94 2.06.94-2.06 2.06-.94-2.06-.94-.94-2.06-.94 2.06-2.06.94zm-11 1L8.5 8.5l.94-2.06 2.06-.94-2.06-.94L8.5 2.5l-.94 2.06-2.06.94zm10 10l.94 2.06.94-2.06 2.06-.94-2.06-.94-.94-2.06-.94 2.06-2.06.94z\"/><path d=\"M17.41 7.96l-1.37-1.37c-.4-.4-.92-.59-1.43-.59-.52 0-1.04.2-1.43.59L10.3 9.45l-7.72 7.72c-.78.78-.78 2.05 0 2.83L4 21.41c.39.39.9.59 1.41.59.51 0 1.02-.2 1.41-.59l7.78-7.78 2.81-2.81c.8-.78.8-2.07 0-2.86zM5.41 20L4 18.59l7.72-7.72 1.47 1.35L5.41 20z\"/>\n",
              "  </svg>\n",
              "      </button>\n",
              "      \n",
              "  <style>\n",
              "    .colab-df-container {\n",
              "      display:flex;\n",
              "      flex-wrap:wrap;\n",
              "      gap: 12px;\n",
              "    }\n",
              "\n",
              "    .colab-df-convert {\n",
              "      background-color: #E8F0FE;\n",
              "      border: none;\n",
              "      border-radius: 50%;\n",
              "      cursor: pointer;\n",
              "      display: none;\n",
              "      fill: #1967D2;\n",
              "      height: 32px;\n",
              "      padding: 0 0 0 0;\n",
              "      width: 32px;\n",
              "    }\n",
              "\n",
              "    .colab-df-convert:hover {\n",
              "      background-color: #E2EBFA;\n",
              "      box-shadow: 0px 1px 2px rgba(60, 64, 67, 0.3), 0px 1px 3px 1px rgba(60, 64, 67, 0.15);\n",
              "      fill: #174EA6;\n",
              "    }\n",
              "\n",
              "    [theme=dark] .colab-df-convert {\n",
              "      background-color: #3B4455;\n",
              "      fill: #D2E3FC;\n",
              "    }\n",
              "\n",
              "    [theme=dark] .colab-df-convert:hover {\n",
              "      background-color: #434B5C;\n",
              "      box-shadow: 0px 1px 3px 1px rgba(0, 0, 0, 0.15);\n",
              "      filter: drop-shadow(0px 1px 2px rgba(0, 0, 0, 0.3));\n",
              "      fill: #FFFFFF;\n",
              "    }\n",
              "  </style>\n",
              "\n",
              "      <script>\n",
              "        const buttonEl =\n",
              "          document.querySelector('#df-80576776-aa5c-437d-b384-d8db6529e9d9 button.colab-df-convert');\n",
              "        buttonEl.style.display =\n",
              "          google.colab.kernel.accessAllowed ? 'block' : 'none';\n",
              "\n",
              "        async function convertToInteractive(key) {\n",
              "          const element = document.querySelector('#df-80576776-aa5c-437d-b384-d8db6529e9d9');\n",
              "          const dataTable =\n",
              "            await google.colab.kernel.invokeFunction('convertToInteractive',\n",
              "                                                     [key], {});\n",
              "          if (!dataTable) return;\n",
              "\n",
              "          const docLinkHtml = 'Like what you see? Visit the ' +\n",
              "            '<a target=\"_blank\" href=https://colab.research.google.com/notebooks/data_table.ipynb>data table notebook</a>'\n",
              "            + ' to learn more about interactive tables.';\n",
              "          element.innerHTML = '';\n",
              "          dataTable['output_type'] = 'display_data';\n",
              "          await google.colab.output.renderOutput(dataTable, element);\n",
              "          const docLink = document.createElement('div');\n",
              "          docLink.innerHTML = docLinkHtml;\n",
              "          element.appendChild(docLink);\n",
              "        }\n",
              "      </script>\n",
              "    </div>\n",
              "  </div>\n",
              "  "
            ]
          },
          "metadata": {},
          "execution_count": 62
        }
      ],
      "source": [
        "print(df)\n",
        "df.describe()"
      ]
    },
    {
      "cell_type": "code",
      "execution_count": 63,
      "metadata": {
        "colab": {
          "base_uri": "https://localhost:8080/"
        },
        "id": "5OyPpoO3z4eo",
        "outputId": "d51a4c7f-f021-4051-b7b4-88dd99eff4f7"
      },
      "outputs": [
        {
          "output_type": "stream",
          "name": "stdout",
          "text": [
            "            Date    Value\n",
            "0     1970-01-01    35.20\n",
            "1     1970-04-01    35.10\n",
            "2     1970-07-01    35.40\n",
            "3     1970-10-01    36.20\n",
            "4     1971-01-01    37.40\n",
            "...          ...      ...\n",
            "10782 2020-03-09  1672.50\n",
            "10783 2020-03-10  1655.70\n",
            "10784 2020-03-11  1653.75\n",
            "10785 2020-03-12  1570.70\n",
            "10786 2020-03-13  1562.80\n",
            "\n",
            "[10787 rows x 2 columns]\n"
          ]
        },
        {
          "output_type": "stream",
          "name": "stderr",
          "text": [
            "/usr/local/lib/python3.7/dist-packages/ipykernel_launcher.py:5: FutureWarning: Treating datetime data as categorical rather than numeric in `.describe` is deprecated and will be removed in a future version of pandas. Specify `datetime_is_numeric=True` to silence this warning and adopt the future behavior now.\n",
            "  \"\"\"\n"
          ]
        },
        {
          "output_type": "execute_result",
          "data": {
            "text/plain": [
              "count                   10787\n",
              "unique                  10787\n",
              "top       1970-01-01 00:00:00\n",
              "freq                        1\n",
              "first     1970-01-01 00:00:00\n",
              "last      2020-03-13 00:00:00\n",
              "Name: Date, dtype: object"
            ]
          },
          "metadata": {},
          "execution_count": 63
        }
      ],
      "source": [
        "#let us convert our date column into DateTime type\n",
        "\n",
        "df1.Date = pd.to_datetime(df1.Date,yearfirst=True)\n",
        "print(df1)\n",
        "df1.Date.describe()"
      ]
    },
    {
      "cell_type": "code",
      "execution_count": 64,
      "metadata": {
        "id": "3aFlcgbKKJFm"
      },
      "outputs": [],
      "source": [
        "#Set Date column as index\n",
        "df1.set_index(\"Date\",inplace=True)\n",
        "\n"
      ]
    },
    {
      "cell_type": "code",
      "execution_count": 65,
      "metadata": {
        "colab": {
          "base_uri": "https://localhost:8080/",
          "height": 560
        },
        "id": "KdyZSI860e1L",
        "outputId": "a6fab62a-fe42-4096-c503-a10c3c3cd033"
      },
      "outputs": [
        {
          "output_type": "stream",
          "name": "stdout",
          "text": [
            "              Value\n",
            "Date               \n",
            "1970-01-01    35.20\n",
            "1970-01-02      NaN\n",
            "1970-01-03      NaN\n",
            "1970-01-04      NaN\n",
            "1970-01-05      NaN\n",
            "...             ...\n",
            "2020-03-09  1672.50\n",
            "2020-03-10  1655.70\n",
            "2020-03-11  1653.75\n",
            "2020-03-12  1570.70\n",
            "2020-03-13  1562.80\n",
            "\n",
            "[18335 rows x 1 columns]\n"
          ]
        },
        {
          "output_type": "execute_result",
          "data": {
            "text/plain": [
              "              Value\n",
              "count  10787.000000\n",
              "mean     653.596634\n",
              "std      434.030848\n",
              "min       35.100000\n",
              "25%      349.200000\n",
              "50%      409.350000\n",
              "75%     1061.625000\n",
              "max     1895.000000"
            ],
            "text/html": [
              "\n",
              "  <div id=\"df-3e101f05-ef9c-4621-aabd-6bd79a9d3f49\">\n",
              "    <div class=\"colab-df-container\">\n",
              "      <div>\n",
              "<style scoped>\n",
              "    .dataframe tbody tr th:only-of-type {\n",
              "        vertical-align: middle;\n",
              "    }\n",
              "\n",
              "    .dataframe tbody tr th {\n",
              "        vertical-align: top;\n",
              "    }\n",
              "\n",
              "    .dataframe thead th {\n",
              "        text-align: right;\n",
              "    }\n",
              "</style>\n",
              "<table border=\"1\" class=\"dataframe\">\n",
              "  <thead>\n",
              "    <tr style=\"text-align: right;\">\n",
              "      <th></th>\n",
              "      <th>Value</th>\n",
              "    </tr>\n",
              "  </thead>\n",
              "  <tbody>\n",
              "    <tr>\n",
              "      <th>count</th>\n",
              "      <td>10787.000000</td>\n",
              "    </tr>\n",
              "    <tr>\n",
              "      <th>mean</th>\n",
              "      <td>653.596634</td>\n",
              "    </tr>\n",
              "    <tr>\n",
              "      <th>std</th>\n",
              "      <td>434.030848</td>\n",
              "    </tr>\n",
              "    <tr>\n",
              "      <th>min</th>\n",
              "      <td>35.100000</td>\n",
              "    </tr>\n",
              "    <tr>\n",
              "      <th>25%</th>\n",
              "      <td>349.200000</td>\n",
              "    </tr>\n",
              "    <tr>\n",
              "      <th>50%</th>\n",
              "      <td>409.350000</td>\n",
              "    </tr>\n",
              "    <tr>\n",
              "      <th>75%</th>\n",
              "      <td>1061.625000</td>\n",
              "    </tr>\n",
              "    <tr>\n",
              "      <th>max</th>\n",
              "      <td>1895.000000</td>\n",
              "    </tr>\n",
              "  </tbody>\n",
              "</table>\n",
              "</div>\n",
              "      <button class=\"colab-df-convert\" onclick=\"convertToInteractive('df-3e101f05-ef9c-4621-aabd-6bd79a9d3f49')\"\n",
              "              title=\"Convert this dataframe to an interactive table.\"\n",
              "              style=\"display:none;\">\n",
              "        \n",
              "  <svg xmlns=\"http://www.w3.org/2000/svg\" height=\"24px\"viewBox=\"0 0 24 24\"\n",
              "       width=\"24px\">\n",
              "    <path d=\"M0 0h24v24H0V0z\" fill=\"none\"/>\n",
              "    <path d=\"M18.56 5.44l.94 2.06.94-2.06 2.06-.94-2.06-.94-.94-2.06-.94 2.06-2.06.94zm-11 1L8.5 8.5l.94-2.06 2.06-.94-2.06-.94L8.5 2.5l-.94 2.06-2.06.94zm10 10l.94 2.06.94-2.06 2.06-.94-2.06-.94-.94-2.06-.94 2.06-2.06.94z\"/><path d=\"M17.41 7.96l-1.37-1.37c-.4-.4-.92-.59-1.43-.59-.52 0-1.04.2-1.43.59L10.3 9.45l-7.72 7.72c-.78.78-.78 2.05 0 2.83L4 21.41c.39.39.9.59 1.41.59.51 0 1.02-.2 1.41-.59l7.78-7.78 2.81-2.81c.8-.78.8-2.07 0-2.86zM5.41 20L4 18.59l7.72-7.72 1.47 1.35L5.41 20z\"/>\n",
              "  </svg>\n",
              "      </button>\n",
              "      \n",
              "  <style>\n",
              "    .colab-df-container {\n",
              "      display:flex;\n",
              "      flex-wrap:wrap;\n",
              "      gap: 12px;\n",
              "    }\n",
              "\n",
              "    .colab-df-convert {\n",
              "      background-color: #E8F0FE;\n",
              "      border: none;\n",
              "      border-radius: 50%;\n",
              "      cursor: pointer;\n",
              "      display: none;\n",
              "      fill: #1967D2;\n",
              "      height: 32px;\n",
              "      padding: 0 0 0 0;\n",
              "      width: 32px;\n",
              "    }\n",
              "\n",
              "    .colab-df-convert:hover {\n",
              "      background-color: #E2EBFA;\n",
              "      box-shadow: 0px 1px 2px rgba(60, 64, 67, 0.3), 0px 1px 3px 1px rgba(60, 64, 67, 0.15);\n",
              "      fill: #174EA6;\n",
              "    }\n",
              "\n",
              "    [theme=dark] .colab-df-convert {\n",
              "      background-color: #3B4455;\n",
              "      fill: #D2E3FC;\n",
              "    }\n",
              "\n",
              "    [theme=dark] .colab-df-convert:hover {\n",
              "      background-color: #434B5C;\n",
              "      box-shadow: 0px 1px 3px 1px rgba(0, 0, 0, 0.15);\n",
              "      filter: drop-shadow(0px 1px 2px rgba(0, 0, 0, 0.3));\n",
              "      fill: #FFFFFF;\n",
              "    }\n",
              "  </style>\n",
              "\n",
              "      <script>\n",
              "        const buttonEl =\n",
              "          document.querySelector('#df-3e101f05-ef9c-4621-aabd-6bd79a9d3f49 button.colab-df-convert');\n",
              "        buttonEl.style.display =\n",
              "          google.colab.kernel.accessAllowed ? 'block' : 'none';\n",
              "\n",
              "        async function convertToInteractive(key) {\n",
              "          const element = document.querySelector('#df-3e101f05-ef9c-4621-aabd-6bd79a9d3f49');\n",
              "          const dataTable =\n",
              "            await google.colab.kernel.invokeFunction('convertToInteractive',\n",
              "                                                     [key], {});\n",
              "          if (!dataTable) return;\n",
              "\n",
              "          const docLinkHtml = 'Like what you see? Visit the ' +\n",
              "            '<a target=\"_blank\" href=https://colab.research.google.com/notebooks/data_table.ipynb>data table notebook</a>'\n",
              "            + ' to learn more about interactive tables.';\n",
              "          element.innerHTML = '';\n",
              "          dataTable['output_type'] = 'display_data';\n",
              "          await google.colab.output.renderOutput(dataTable, element);\n",
              "          const docLink = document.createElement('div');\n",
              "          docLink.innerHTML = docLinkHtml;\n",
              "          element.appendChild(docLink);\n",
              "        }\n",
              "      </script>\n",
              "    </div>\n",
              "  </div>\n",
              "  "
            ]
          },
          "metadata": {},
          "execution_count": 65
        }
      ],
      "source": [
        "# setting the frequency as day\n",
        "df1 = df1.asfreq('d')\n",
        "\n",
        "print(df1)\n",
        "df1.describe()"
      ]
    },
    {
      "cell_type": "code",
      "execution_count": 66,
      "metadata": {
        "id": "y8PSMqEZ2E-F"
      },
      "outputs": [],
      "source": [
        "\n",
        "df1 = df1.fillna(method='ffill')"
      ]
    },
    {
      "cell_type": "code",
      "execution_count": 67,
      "metadata": {
        "colab": {
          "base_uri": "https://localhost:8080/",
          "height": 320
        },
        "id": "jGsfzqZv4uuV",
        "outputId": "f429b3aa-b8dd-4bcb-e8f8-e0af2e346470"
      },
      "outputs": [
        {
          "output_type": "display_data",
          "data": {
            "text/plain": [
              "<Figure size 432x288 with 4 Axes>"
            ],
            "image/png": "[encoded data removed]"
          },
          "metadata": {
            "needs_background": "light"
          }
        }
      ],
      "source": [
        "from statsmodels.tsa.seasonal import seasonal_decompose\n",
        "decomposed_value_graph = seasonal_decompose(df1['Value'])\n",
        "decomposed_value_graph.plot();"
      ]
    },
    {
      "cell_type": "code",
      "execution_count": 68,
      "metadata": {
        "colab": {
          "base_uri": "https://localhost:8080/",
          "height": 751
        },
        "id": "sduoUscrOHAg",
        "outputId": "816c501f-75d0-4a3c-e107-b87e19663903"
      },
      "outputs": [
        {
          "output_type": "execute_result",
          "data": {
            "text/plain": [
              "<matplotlib.axes._subplots.AxesSubplot at 0x7f35999d3e10>"
            ]
          },
          "metadata": {},
          "execution_count": 68
        },
        {
          "output_type": "display_data",
          "data": {
            "text/plain": [
              "<Figure size 864x864 with 1 Axes>"
            ],
            "image/png": "[encoded data removed]"
          },
          "metadata": {
            "needs_background": "light"
          }
        }
      ],
      "source": [
        "# lets see how gold price values are changing with time\n",
        "df1.plot(figsize=(12,12))\n"
      ]
    },
    {
      "cell_type": "code",
      "execution_count": 69,
      "metadata": {
        "id": "obq3vO28LCYT"
      },
      "outputs": [],
      "source": [
        "data = pd.read_csv('https://personal.utdallas.edu/~jxc210050/gold_price_data_2.csv')\n",
        "# let us keep the data in a dataframe \n",
        "df1 = pd.DataFrame(data)\n",
        "df1=df.fillna(df1['Value'].mean())\n",
        "df1['Date'] =  pd.to_datetime(df1['Date'], format='%Y-%m-%d %H:%M:%S')\n",
        "df1 = df1.set_index(pd.DatetimeIndex(df1['Date']))\n",
        "    "
      ]
    },
    {
      "cell_type": "code",
      "execution_count": 70,
      "metadata": {
        "colab": {
          "base_uri": "https://localhost:8080/"
        },
        "id": "A2zNuAACzeJg",
        "outputId": "9060b93b-9ac3-45c3-d335-c3db9b938f84"
      },
      "outputs": [
        {
          "output_type": "stream",
          "name": "stdout",
          "text": [
            "              Value  0_1_scale\n",
            "Date                          \n",
            "1970-01-01    35.20   0.000054\n",
            "1970-01-02    35.20   0.000054\n",
            "1970-01-03    35.20   0.000054\n",
            "1970-01-04    35.20   0.000054\n",
            "1970-01-05    35.20   0.000054\n",
            "...             ...        ...\n",
            "2020-03-09  1672.50   0.880370\n",
            "2020-03-10  1655.70   0.871337\n",
            "2020-03-11  1653.75   0.870289\n",
            "2020-03-12  1570.70   0.825636\n",
            "2020-03-13  1562.80   0.821388\n",
            "\n",
            "[18335 rows x 2 columns]\n"
          ]
        }
      ],
      "source": [
        "window = 10\n",
        "x = df1.resample('1D',axis=0).mean()\n",
        "fit_in_minimaxscaler = x.iloc[:, 0].values\n",
        "        #scale=MinMaxScaler().fit_transform(scale.reshape(-1, 1))\n",
        "mini_max_scaler = MinMaxScaler()\n",
        "fit_in_minimaxscaler =mini_max_scaler.fit_transform(fit_in_minimaxscaler.reshape(-1, 1))\n",
        "x['0_1_scale']=fit_in_minimaxscaler\n",
        "# let us use first fill here e prices should follow a trend and using mean here would disturb the trend.\n",
        "df1 = x.fillna(method='ffill')\n",
        "print(df1)\n"
      ]
    },
    {
      "cell_type": "code",
      "execution_count": 71,
      "metadata": {
        "colab": {
          "base_uri": "https://localhost:8080/"
        },
        "id": "O4ld3XUi31D_",
        "outputId": "a6d11b38-00e2-417a-99b5-3f03f464c61e"
      },
      "outputs": [
        {
          "output_type": "stream",
          "name": "stdout",
          "text": [
            "[[[5.37663315e-05]\n",
            "  [5.37663315e-05]\n",
            "  [5.37663315e-05]\n",
            "  ...\n",
            "  [5.37663315e-05]\n",
            "  [5.37663315e-05]\n",
            "  [5.37663315e-05]]\n",
            "\n",
            " [[5.37663315e-05]\n",
            "  [5.37663315e-05]\n",
            "  [5.37663315e-05]\n",
            "  ...\n",
            "  [5.37663315e-05]\n",
            "  [5.37663315e-05]\n",
            "  [5.37663315e-05]]\n",
            "\n",
            " [[5.37663315e-05]\n",
            "  [5.37663315e-05]\n",
            "  [5.37663315e-05]\n",
            "  ...\n",
            "  [5.37663315e-05]\n",
            "  [5.37663315e-05]\n",
            "  [5.37663315e-05]]\n",
            "\n",
            " ...\n",
            "\n",
            " [[6.82240981e-01]\n",
            "  [6.79283832e-01]\n",
            "  [6.61540943e-01]\n",
            "  ...\n",
            "  [6.65842250e-01]\n",
            "  [6.90440346e-01]\n",
            "  [6.88961772e-01]]\n",
            "\n",
            " [[6.79283832e-01]\n",
            "  [6.61540943e-01]\n",
            "  [6.61540943e-01]\n",
            "  ...\n",
            "  [6.90440346e-01]\n",
            "  [6.88961772e-01]\n",
            "  [6.88961772e-01]]\n",
            "\n",
            " [[6.61540943e-01]\n",
            "  [6.61540943e-01]\n",
            "  [6.61540943e-01]\n",
            "  ...\n",
            "  [6.88961772e-01]\n",
            "  [6.88961772e-01]\n",
            "  [6.88961772e-01]]]\n"
          ]
        },
        {
          "output_type": "execute_result",
          "data": {
            "text/plain": [
              "(15990, 1)"
            ]
          },
          "metadata": {},
          "execution_count": 71
        }
      ],
      "source": [
        "#train split - taking first 16000 rows as train data where depending on our window size, window+1 would be y(dependant attribute)\n",
        "X_train = []\n",
        "train = df1[0:16000]\n",
        "train.shape\n",
        "Y_train = []\n",
        "# let us iterate through training data to divide data into x and y sets\n",
        "for i in range(len(train) - window):\n",
        "            # for example if window = 3 ; x will have 1,2,3 and y will have 4\n",
        "            X_train.append(train['0_1_scale'][i:i+window])\n",
        "            #4th value i.e., i+window will be y\n",
        "            Y_train.append(train['0_1_scale'][i+window])\n",
        "\n",
        "#just making x and y train to arrays to make them in accordance to our model\n",
        "X_train = np.array(X_train)\n",
        "X_train.shape\n",
        "#[[1 2 3] [5 6 7].....]\n",
        "X_train = np.expand_dims(X_train, axis=2)\n",
        "X_train.shape\n",
        "Y_train = np.array(Y_train)\n",
        "Y_train.shape\n",
        "print(X_train)\n",
        "Y_train = np.expand_dims(Y_train, axis=1)\n",
        "Y_train.shape # (10777, 1)"
      ]
    },
    {
      "cell_type": "code",
      "execution_count": 72,
      "metadata": {
        "colab": {
          "base_uri": "https://localhost:8080/"
        },
        "id": "5sxjn-fs8XSv",
        "outputId": "060f4057-47be-463f-9896-18f98fe32fd0"
      },
      "outputs": [
        {
          "output_type": "execute_result",
          "data": {
            "text/plain": [
              "(2324, 1)"
            ]
          },
          "metadata": {},
          "execution_count": 72
        }
      ],
      "source": [
        "#validation data split . from 16000 - last as validation data\n",
        "X_Val = []\n",
        "Y_Val = []\n",
        "# let us iterate through validation data to divide data into x and y sets \n",
        "for i in range(16000,18334 - window ):\n",
        "            # for example if window = 3 ; x will have 1,2,3 and y will have 4\n",
        "            X_Val.append(df1['0_1_scale'][i:i+window])\n",
        "            #4th value i.e., i+window will be y\n",
        "            Y_Val.append(df1['0_1_scale'][i+window])\n",
        "\n",
        "#just making x and y train to arrays to make them in accordance to our model\n",
        "X_Val = np.array(X_Val)\n",
        "X_Val.shape\n",
        "#[[1 2 3] [5 6 7].....]\n",
        "X_Val = np.expand_dims(X_Val, axis=2)\n",
        "X_Val.shape\n",
        "Y_Val = np.array(Y_Val)\n",
        "Y_Val.shape\n",
        "Y_Val = np.expand_dims(Y_Val, axis=1)\n",
        "Y_Val.shape # (2324, 1)"
      ]
    },
    {
      "cell_type": "code",
      "execution_count": 73,
      "metadata": {
        "id": "tidVGbVDf8O0"
      },
      "outputs": [],
      "source": [
        "class RNN:\n",
        "    def __init__(self,X_train,Y_train,X_val,Y_val,epoch,learningRate,window,hidden_neurons,output_size,vanishing_gradient_min_check\n",
        "                 ,vanishing_gradient_max_check ,back_propogation_limit):\n",
        "        self.vanishing_gradient_min_check= vanishing_gradient_min_check\n",
        "        self.vanishing_gradient_max_check  = vanishing_gradient_max_check \n",
        "        self.back_propogation_limit = back_propogation_limit\n",
        "\n",
        "        self.w1 = None\n",
        "        self.w2 = None\n",
        "        self.w3 = None\n",
        "        #let us just initilalise all our params\n",
        "        self.X_train = X_train\n",
        "        self.Y_train = Y_train\n",
        "        self.X_val = X_val\n",
        "        self.Y_val = Y_val\n",
        "        self.epoch = epoch\n",
        "        self.window = window\n",
        "        self.hidden_neurons= hidden_neurons\n",
        "        self.output_size = output_size\n",
        "        self.learningRate = learningRate\n",
        "        self.epoch = epoch\n",
        "       \n",
        "    def sigmoid_activation(self,i):\n",
        "        # sigmoid activation function formula\n",
        "        return 1 / (1 + np.exp(-i))    \n",
        "\n",
        "    def RMSE(self,X_train,Y_train ,w1,w2,w3):\n",
        "        hidden_neurons = self.hidden_neurons\n",
        "        window = self.window\n",
        "        n = Y_train.shape[0]\n",
        "        # initialiing loss to 0.0\n",
        "        loss = 0.0\n",
        "        #forward pass \n",
        "        for i in range(n):\n",
        "            #for each row\n",
        "            state_old = np.zeros((hidden_neurons, 1))   \n",
        "\n",
        "\n",
        "            date= X_train[i]\n",
        "            value =  Y_train[i]                  \n",
        "            for elem_in_window in range(window):\n",
        "\n",
        "                ip = np.zeros(date.shape)    \n",
        "                ip[elem_in_window] = date[elem_in_window]              \n",
        "                w1_dot_prod = np.dot(w1, ip)\n",
        "                w3_dot_prod = np.dot(w3, state_old)\n",
        "                sum_of_weights = w1_dot_prod + w3_dot_prod \n",
        "                current_state = self.sigmoid_activation(sum_of_weights)\n",
        "                w2_dot_prod = np.dot(w2, current_state)\n",
        "                state_old = current_state\n",
        "\n",
        "\n",
        "            updated_loss = (value - w2_dot_prod)**2 / 2\n",
        "            loss += updated_loss\n",
        "        return loss,value\n",
        "\n",
        "\n",
        "       \n",
        "    def train(self):\n",
        "        learningRate = self.learningRate\n",
        "        back_propogation_limit = self.back_propogation_limit\n",
        "        hidden_neurons = self.hidden_neurons\n",
        "        output_size = self.output_size\n",
        "        vanishing_gradient_min_check = self.vanishing_gradient_min_check\n",
        "        vanishing_gradient_max_check  = self.vanishing_gradient_max_check \n",
        "        window = self.window\n",
        "        np.random.seed(1200)\n",
        "        #lets start with giving some random weights first\n",
        "        w1 = np.random.uniform(0, 1, (hidden_neurons, window))\n",
        "        w3 = np.random.uniform(0, 1, (hidden_neurons, hidden_neurons))\n",
        "        w2 = np.random.uniform(0, 1, (output_size, hidden_neurons))\n",
        "        X_train = self.X_train\n",
        "        Y_train = self.Y_train\n",
        "        X_val = self.X_val\n",
        "        Y_val = self.Y_val\n",
        "        loss = 0.0\n",
        "        for epochs in range(self.epoch):\n",
        "          #loss on training data\n",
        "            loss,value = self.RMSE(X_train,Y_train,w1,w2,w3)\n",
        "            loss = loss / float(value.shape[0])\n",
        "\n",
        "            validation_loss,value = self.RMSE(X_val,Y_val,w1,w2,w3)\n",
        "            validation_loss = validation_loss / float(value.shape[0])\n",
        "            print('Epoch: ', epochs + 1, '/',self.epoch,', Training Loss: ', loss, ', Validation Loss: ', validation_loss)\n",
        "            #Train\n",
        "            for i in range(Y_train.shape[0]):\n",
        "                d_w1 = np.zeros(w1.shape)\n",
        "                d_w2 = np.zeros(w2.shape)\n",
        "                d_w3 = np.zeros(w3.shape)\n",
        "                date, value = X_train[i], Y_train[i]\n",
        "                layers = []\n",
        "                state_old = np.zeros((hidden_neurons, 1))\n",
        "                \n",
        "                d_w1_1 = np.zeros(w1.shape)\n",
        "                d_w2_1 = np.zeros(w2.shape)\n",
        "                d_w3_1 = np.zeros(w3.shape)\n",
        "                d_w1_2 = np.zeros(w1.shape)\n",
        "                d_w3_2 = np.zeros(w3.shape)\n",
        "\n",
        "                for elem_in_window in range(window):\n",
        "                    ip = np.zeros(date.shape)\n",
        "                    ip[elem_in_window] = date[elem_in_window]\n",
        "                    dot_prod_w1 = np.dot(w1, ip)\n",
        "                    dot_prod_w3 = np.dot(w3, state_old)\n",
        "                    sum_of_wx =  dot_prod_w1 + dot_prod_w3\n",
        "                    current_state = self.sigmoid_activation(sum_of_wx)\n",
        "                    dot_prod_w2 = np.dot(w2, current_state)\n",
        "                    layers.append({'current_state':current_state, 'state_old':state_old})\n",
        "                    state_old = current_state\n",
        "\n",
        "\n",
        "                d_dot_w2 = (dot_prod_w2 - value)\n",
        "                for elem_in_window in range(window):\n",
        "                    d_w2_1  = np.dot(d_dot_w2, np.transpose(layers[elem_in_window]['current_state']))\n",
        "                    z1 = np.dot(np.transpose(w2),d_dot_w2)\n",
        "\n",
        "                    z2 = z1\n",
        "                    delta_sums = sum_of_wx * (1 - sum_of_wx) * z2\n",
        "\n",
        "                    d_dot_w3 = delta_sums * np.ones_like(dot_prod_w3)\n",
        "\n",
        "                    delta_state_old = np.dot(np.transpose(w3), d_dot_w3)\n",
        "\n",
        "\n",
        "                    for i in range(elem_in_window-1, max(-1, elem_in_window-back_propogation_limit-1), -1):\n",
        "                        z2 = z1 + delta_state_old\n",
        "                        delta_sums = sum_of_wx * (1 - sum_of_wx) * z2\n",
        "\n",
        "                        d_dot_w3 = delta_sums * np.ones_like(dot_prod_w3)\n",
        "                        d_dot_w1 = delta_sums * np.ones_like(dot_prod_w1)\n",
        "\n",
        "                        d_w3_2 = np.dot(w3, layers[elem_in_window]['state_old'])\n",
        "                        delta_state_old = np.dot(np.transpose(w3), d_dot_w3)\n",
        "\n",
        "                        ip = np.zeros(date.shape)\n",
        "                        ip[elem_in_window] = date[elem_in_window]\n",
        "                        d_w1_2 = np.dot(w1, ip)\n",
        "                        z3 = np.dot(np.transpose(w1), d_dot_w1)\n",
        "\n",
        "                        d_w1_1 += d_w1_2\n",
        "                        d_w3_1 += d_w3_2\n",
        "\n",
        "                    d_w2 += d_w2_1\n",
        "                    d_w1 += d_w1_1\n",
        "                    d_w3 += d_w3_1\n",
        "\n",
        "                    #checking weight 1 to be below our check to avoid vanishing gradient \n",
        "\n",
        "                    if d_w1.max() > vanishing_gradient_max_check :\n",
        "                        d_w1[d_w1 > vanishing_gradient_max_check ] = vanishing_gradient_max_check \n",
        "                    if d_w1.min() < vanishing_gradient_min_check:\n",
        "                        d_w1[d_w1 < vanishing_gradient_min_check] = vanishing_gradient_min_check\n",
        "\n",
        "                    #for weight 2 \n",
        "                    if d_w2.max() > vanishing_gradient_max_check :\n",
        "                        d_w2[d_w2 > vanishing_gradient_max_check ] = vanishing_gradient_max_check \n",
        "                    if d_w2.min() < vanishing_gradient_min_check:\n",
        "                        d_w2[d_w2 < vanishing_gradient_min_check] = vanishing_gradient_min_check\n",
        "\n",
        "\n",
        "                    # for weight 3\n",
        "                    if d_w3.max() > vanishing_gradient_max_check :\n",
        "                        d_w3[d_w3 > vanishing_gradient_max_check ] = vanishing_gradient_max_check       \n",
        "                   \n",
        "                    if d_w3.min() < vanishing_gradient_min_check:\n",
        "                        d_w3[d_w3 < vanishing_gradient_min_check] = vanishing_gradient_min_check\n",
        "\n",
        "                # new weights\n",
        "                w1 -= learningRate * d_w1\n",
        "                w2 -= learningRate * d_w2\n",
        "                w3 -= learningRate * d_w3  \n",
        "        \n",
        "        # final weights\n",
        "        self.w1 = w1\n",
        "        self.w3 = w3\n",
        "        self.w2 = w2\n",
        "                \n",
        "    #prediction on train data\n",
        "    def predicting_on_training(self):\n",
        "        hidden_neurons = self.hidden_neurons\n",
        "        w1 = self.w1\n",
        "        w2 = self.w2\n",
        "        w3 = self.w3\n",
        "        Y_train = self.Y_train\n",
        "        X_train = self.X_train\n",
        "        window = self.window\n",
        "        answer = []\n",
        "        for i in range(Y_train.shape[0]):\n",
        "            xi, yi = X_train[i], Y_train[i]\n",
        "            state_old = np.zeros((hidden_neurons, 1))\n",
        "            for elem_in_window in range(window):\n",
        "                dot_prod_w1 = np.dot(w1, xi)\n",
        "                dot_prod_w3 = np.dot(w3, state_old)\n",
        "                sum_of_wx = dot_prod_w1 + dot_prod_w3\n",
        "                current_state = self.sigmoid_activation(sum_of_wx)\n",
        "                dot_prod_w2 = np.dot(w2, current_state)\n",
        "                state_old = current_state\n",
        "            answer.append(dot_prod_w2)\n",
        "        return answer\n",
        "    \n",
        "    #predict function on validation data\n",
        "    def predicting_on_validation(self):\n",
        "        hidden_neurons = self.hidden_neurons\n",
        "        w1 = self.w1\n",
        "        w2 = self.w2\n",
        "        w3 = self.w3\n",
        "        X_val = self.X_val\n",
        "        Y_val = self.Y_val\n",
        "        window = self.window\n",
        "        output = []\n",
        "        for i in range(Y_val.shape[0]):\n",
        "            x, y = X_val[i], Y_val[i]\n",
        "\n",
        "            state_old = np.zeros((hidden_neurons, 1))\n",
        "            for elem_in_window in range(window):\n",
        "                dot_prod_w1 = np.dot(w1, x)\n",
        "                dot_prod_w3 = np.dot(w3, state_old)\n",
        "\n",
        "\n",
        "                sum_weights = dot_prod_w1 + dot_prod_w3\n",
        "                current_state = self.sigmoid_activation(sum_weights)\n",
        "                dot_prod_w2 = np.dot(w2, current_state)\n",
        "                state_old = current_state\n",
        "            output.append(dot_prod_w2)\n",
        "        return output\n",
        "        \n",
        "\n",
        "\n"
      ]
    },
    {
      "cell_type": "code",
      "execution_count": 74,
      "metadata": {
        "colab": {
          "base_uri": "https://localhost:8080/"
        },
        "id": "IrQkhNEXGg3O",
        "outputId": "0816b630-9138-495d-9d62-897bf70798d6"
      },
      "outputs": [
        {
          "output_type": "stream",
          "name": "stdout",
          "text": [
            "Epoch:  1 / 2 , Training Loss:  [[40647911.99784667]] , Validation Loss:  [[5834788.03686466]]\n",
            "Epoch:  2 / 2 , Training Loss:  [[97.23306015]] , Validation Loss:  [[19.53284723]]\n"
          ]
        }
      ],
      "source": [
        "modelh = RNN(X_train,Y_train,X_Val,Y_Val,2,0.0005,10,136,1,-5,5,5)# # 6)\n",
        "#modelh = RNN(X_train,Y_train,X_Val,Y_Val,2,0.0002,10,136,1,-10,10,5)\n",
        "modelh.train()\n",
        "#modelh = MyRNNmodel(0.0005,3,10,136,1,5,-5,5,X_train,Y_train,X_Val,Y_Val)--97\n",
        "\n",
        "\n",
        "\n",
        "#  modelh = RNN(X_train,Y_train,X_Val,Y_Val,2,0.0005,10,136,1,-5,5,5)# # 6) Train Model -- answer\n",
        "\n",
        "\n",
        "\n",
        "#getting predictions and plotting the graph\n",
        "training_output = modelh.predicting_on_training()\n",
        "training_output = np.array(training_output)\n",
        "#modelh = RNN(X_train,Y_train,X_Val,Y_Val,5,0.0004,10,136,1,-10,10,5)# # 6) Train Model ## goot with 200\n",
        "#modelh = RNN(X_train,Y_train,X_Val,Y_Val,5,0.0002,10,136,1,-10,10,5)# # 6) Train Model  ## 74, 27 ##67,10 --4th epoch\n",
        "#modelh = RNN(X_train,Y_train,X_Val,Y_Val,4,0.0001,10,136,1,-10,10,5)# # 6) Train Model.  420,1.8\n",
        "# till now #for i in range(16000,18334 - window ):\n",
        "#modelh = RNN(X_train,Y_train,X_Val,Y_Val,20,0.0002,10,136,1,-9,9,5)# # 6) Train Model 120,7 6th iteration'\n",
        "#modelh = RNN(X_train,Y_train,X_Val,Y_Val,4,0.00009,10,136,1,-10,10,5)# # 6) Train Model. 161, 10 for 4 epochs\n",
        "\n",
        "\n",
        "\n",
        " \n"
      ]
    },
    {
      "cell_type": "code",
      "execution_count": 80,
      "metadata": {
        "colab": {
          "base_uri": "https://localhost:8080/",
          "height": 306
        },
        "id": "1ujdAZPwWxYy",
        "outputId": "e41015c3-1770-4970-e3b5-3ab7e0152749"
      },
      "outputs": [
        {
          "output_type": "display_data",
          "data": {
            "text/plain": [
              "<Figure size 432x288 with 1 Axes>"
            ],
            "image/png": "[encoded data removed]"
          },
          "metadata": {
            "needs_background": "light"
          }
        },
        {
          "output_type": "execute_result",
          "data": {
            "text/plain": [
              "\"\\nplt.plot(training_output2, 'g')\\nplt.plot(z[:, 0], 'r')\\nplt.show()\\n\""
            ],
            "application/vnd.google.colaboratory.intrinsic+json": {
              "type": "string"
            }
          },
          "metadata": {},
          "execution_count": 80
        }
      ],
      "source": [
        "#graph for training data\n",
        "training_output.shape\n",
        "training_output1 = training_output[:, 0]\n",
        "aa1 = training_output1[15000:16000]\n",
        "training_output2 = mini_max_scaler.inverse_transform(training_output[:, 0])\n",
        "z = mini_max_scaler.inverse_transform(Y_train)\n",
        "z1 = Y_train[:, 0]\n",
        "plt.plot(aa1, 'g')\n",
        "plt.plot(z1[15000:16000], 'r')\n",
        "plt.show()\n",
        "\n",
        "\"\"\"\n",
        "plt.plot(training_output2, 'g')\n",
        "plt.plot(z[:, 0], 'r')\n",
        "plt.show()\n",
        "\"\"\""
      ]
    },
    {
      "cell_type": "code",
      "execution_count": 83,
      "metadata": {
        "colab": {
          "base_uri": "https://localhost:8080/",
          "height": 517
        },
        "id": "xHwTVmx7WyFA",
        "outputId": "524d85ff-dd2a-49b3-d5d5-f4815c4017c4"
      },
      "outputs": [
        {
          "output_type": "stream",
          "name": "stdout",
          "text": [
            "[[1473.15883863]\n",
            " [1458.31813914]\n",
            " [1460.9811312 ]\n",
            " ...\n",
            " [1612.00364406]\n",
            " [1611.78861167]\n",
            " [1613.42987397]]\n",
            "[[1306.75]\n",
            " [1306.75]\n",
            " [1306.75]\n",
            " ...\n",
            " [1655.7 ]\n",
            " [1653.75]\n",
            " [1570.7 ]]\n"
          ]
        },
        {
          "output_type": "display_data",
          "data": {
            "text/plain": [
              "<Figure size 432x288 with 1 Axes>"
            ],
            "image/png": "[encoded data removed]"
          },
          "metadata": {
            "needs_background": "light"
          }
        }
      ],
      "source": [
        "#graph for test data\n",
        "tess = modelh.predicting_on_validation()\n",
        "tess = np.array(tess)\n",
        "#plotting the preds\n",
        "\n",
        "\n",
        "tess = mini_max_scaler.inverse_transform(tess[:, 0])\n",
        "print(tess)\n",
        "z1 = mini_max_scaler.inverse_transform(Y_Val)\n",
        "print(z1)\n",
        "plt.plot(tess[1000:], 'g')\n",
        "abc = z1[:, 0]\n",
        "plt.plot(abc[1000:], 'r')\n",
        "plt.show()\n"
      ]
    },
    {
      "cell_type": "code",
      "source": [
        "from sklearn.metrics import mean_squared_error\n",
        "a= modelh.predicting_on_validation()\n",
        "a1 = np.array(a)\n",
        "b = a1[:, 0]\n",
        "c= Y_Val[:,0]\n",
        "mse = mean_squared_error(b, c)\n",
        "print(mse)"
      ],
      "metadata": {
        "colab": {
          "base_uri": "https://localhost:8080/"
        },
        "id": "iUwrrcG93uvo",
        "outputId": "6cc7683f-d0ee-4795-b59f-22e5c4780555"
      },
      "execution_count": 77,
      "outputs": [
        {
          "output_type": "stream",
          "name": "stdout",
          "text": [
            "0.00821087844672419\n"
          ]
        }
      ]
    },
    {
      "cell_type": "code",
      "source": [
        "print(tess)"
      ],
      "metadata": {
        "colab": {
          "base_uri": "https://localhost:8080/"
        },
        "id": "C6esvowPFaui",
        "outputId": "815666a7-c1df-493e-f2d6-a295cdbb3d68"
      },
      "execution_count": 78,
      "outputs": [
        {
          "output_type": "stream",
          "name": "stdout",
          "text": [
            "[[1473.15883863]\n",
            " [1458.31813914]\n",
            " [1460.9811312 ]\n",
            " ...\n",
            " [1612.00364406]\n",
            " [1611.78861167]\n",
            " [1613.42987397]]\n"
          ]
        }
      ]
    },
    {
      "cell_type": "code",
      "source": [
        "print(z1)"
      ],
      "metadata": {
        "colab": {
          "base_uri": "https://localhost:8080/"
        },
        "id": "nC-zep7nFex7",
        "outputId": "bbaf0000-a099-4865-fe10-80c2b4bbb5e5"
      },
      "execution_count": 79,
      "outputs": [
        {
          "output_type": "stream",
          "name": "stdout",
          "text": [
            "[[1306.75]\n",
            " [1306.75]\n",
            " [1306.75]\n",
            " ...\n",
            " [1655.7 ]\n",
            " [1653.75]\n",
            " [1570.7 ]]\n"
          ]
        }
      ]
    }
  ],
  "metadata": {
    "colab": {
      "collapsed_sections": [],
      "name": "project.ipynb",
      "provenance": []
    },
    "kernelspec": {
      "display_name": "Python 3",
      "name": "python3"
    },
    "language_info": {
      "name": "python"
    }
  },
  "nbformat": 4,
  "nbformat_minor": 0
}